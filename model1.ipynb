{
 "cells": [
  {
   "cell_type": "code",
   "execution_count": 10,
   "metadata": {},
   "outputs": [],
   "source": [
    "import tensorflow as tf"
   ]
  },
  {
   "cell_type": "code",
   "execution_count": 13,
   "metadata": {},
   "outputs": [],
   "source": [
    "loaded_model = tf.keras.models.load_model('model2.keras')"
   ]
  },
  {
   "cell_type": "code",
   "execution_count": 14,
   "metadata": {},
   "outputs": [],
   "source": [
    "import io"
   ]
  },
  {
   "cell_type": "code",
   "execution_count": 21,
   "metadata": {},
   "outputs": [
    {
     "name": "stdout",
     "output_type": "stream",
     "text": [
      "Image saved as image.png\n"
     ]
    }
   ],
   "source": [
    "from tkinter import *\n",
    "from PIL import Image, ImageDraw\n",
    "\n",
    "# Global variables\n",
    "file_path = r'C:\\Users\\HITLER\\Desktop\\images\\img'\n",
    "\n",
    "drawing = False\n",
    "last_x = 0\n",
    "last_y = 0\n",
    "\n",
    "def start_drawing(event):\n",
    "    global drawing, last_x, last_y\n",
    "    drawing = True\n",
    "    last_x, last_y = event.x, event.y\n",
    "\n",
    "# Function to draw on the canvas\n",
    "def draw(event):\n",
    "    global drawing, last_x, last_y\n",
    "    if drawing:\n",
    "        canvas.create_line(last_x, last_y, event.x, event.y, width=3, fill=\"white\", capstyle=ROUND, smooth=TRUE, splinesteps=12)\n",
    "        last_x, last_y = event.x, event.y\n",
    "\n",
    "# Function to stop drawing on the canvas\n",
    "def stop_drawing(event):\n",
    "    global drawing\n",
    "    drawing = False\n",
    "\n",
    "# Function to save the canvas drawing as PNG\n",
    "from tkinter import *\n",
    "from PIL import Image, ImageDraw\n",
    "\n",
    "# ... (your existing code)\n",
    "\n",
    "# Function to save the canvas drawing as PNG\n",
    "def save_as_png():\n",
    "    global file_path\n",
    "    if file_path:\n",
    "        # Create an image with a black background\n",
    "        img = Image.new(\"RGB\", (256, 256), \"black\")\n",
    "        draw = ImageDraw.Draw(img)\n",
    "\n",
    "        # Draw the canvas content onto the image with white color\n",
    "        for item in canvas.find_all():\n",
    "            coords = canvas.coords(item)\n",
    "            draw.line(coords, fill=\"white\", width=10)\n",
    "\n",
    "        # Save the image with a white font on a black background\n",
    "        img.save(\"image.png\", format=\"PNG\")\n",
    "        print(\"Image saved as image.png\")\n",
    "\n",
    "# GUI Components\n",
    "window = Tk()\n",
    "window.title(\"Handwritten Digit Recognition\")\n",
    "\n",
    "# Canvas to draw on\n",
    "canvas = Canvas(window, width=256, height=256, bg=\"black\")\n",
    "canvas.pack()\n",
    "\n",
    "# Button to clear the canvas\n",
    "clear_button = Button(window, text=\"Clear Canvas\", font=('Algerian', 15), bg=\"orange\", fg=\"black\", command=lambda: canvas.delete(\"all\"))\n",
    "clear_button.pack()\n",
    "\n",
    "# Button to save the canvas drawing as PNG\n",
    "save_button = Button(window, text=\"Save as PNG\", font=('Algerian', 15), bg=\"blue\", fg=\"white\", command=save_as_png)\n",
    "save_button.pack()\n",
    "\n",
    "# Bind mouse events to canvas\n",
    "canvas.bind(\"<Button-1>\", lambda event: start_drawing(event))\n",
    "canvas.bind(\"<B1-Motion>\", lambda event: draw(event))\n",
    "canvas.bind(\"<ButtonRelease-1>\", lambda event: stop_drawing(event))\n",
    "\n",
    "# Main loop\n",
    "window.geometry(\"600x600\")\n",
    "window.mainloop()\n"
   ]
  },
  {
   "cell_type": "code",
   "execution_count": 22,
   "metadata": {},
   "outputs": [
    {
     "name": "stdout",
     "output_type": "stream",
     "text": [
      "False\n"
     ]
    },
    {
     "name": "stderr",
     "output_type": "stream",
     "text": [
      "C:\\Users\\HITLER\\AppData\\Local\\Temp\\ipykernel_1460\\331151201.py:3: UserWarning: Unknown feature 'gs'.\n",
      "  print(features.check('gs'))\n"
     ]
    }
   ],
   "source": [
    "from PIL import features\n",
    "\n",
    "print(features.check('gs'))\n"
   ]
  },
  {
   "cell_type": "code",
   "execution_count": 23,
   "metadata": {},
   "outputs": [],
   "source": [
    "import cv2\n",
    "import numpy as np\n",
    "import tensorflow as tf\n",
    "\n"
   ]
  },
  {
   "cell_type": "code",
   "execution_count": 24,
   "metadata": {},
   "outputs": [
    {
     "name": "stdout",
     "output_type": "stream",
     "text": [
      "1/1 [==============================] - 0s 43ms/step\n"
     ]
    }
   ],
   "source": [
    "img = cv2.imread('image.png')\n",
    "resize = tf.image.resize(img,(256,256))\n",
    "yhat = loaded_model.predict(np.expand_dims(resize/255,0))"
   ]
  },
  {
   "cell_type": "code",
   "execution_count": 25,
   "metadata": {},
   "outputs": [],
   "source": [
    "value=np.argmax(yhat)"
   ]
  },
  {
   "cell_type": "code",
   "execution_count": 26,
   "metadata": {},
   "outputs": [
    {
     "name": "stdout",
     "output_type": "stream",
     "text": [
      "The value of the number typed is  7\n"
     ]
    }
   ],
   "source": [
    "print('The value of the number typed is ',value)"
   ]
  },
  {
   "cell_type": "code",
   "execution_count": null,
   "metadata": {},
   "outputs": [],
   "source": []
  }
 ],
 "metadata": {
  "kernelspec": {
   "display_name": "Python 3",
   "language": "python",
   "name": "python3"
  },
  "language_info": {
   "codemirror_mode": {
    "name": "ipython",
    "version": 3
   },
   "file_extension": ".py",
   "mimetype": "text/x-python",
   "name": "python",
   "nbconvert_exporter": "python",
   "pygments_lexer": "ipython3",
   "version": "3.11.3"
  }
 },
 "nbformat": 4,
 "nbformat_minor": 2
}
